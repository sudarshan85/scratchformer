{
 "cells": [
  {
   "cell_type": "code",
   "execution_count": null,
   "id": "80413c68-2e7c-4786-aa86-7812201e505e",
   "metadata": {},
   "outputs": [],
   "source": [
    "%load_ext autoreload\n",
    "%autoreload 2\n",
    "%config IPCompleter.greedy=True\n",
    "\n",
    "import sys, os, time, warnings, pdb, pickle, random, math, re, json\n",
    "warnings.filterwarnings('ignore')\n",
    "sys.path.insert(0, '../scripts')\n",
    "\n",
    "from pathlib import Path\n",
    "import numpy as np\n",
    "import pandas as pd\n",
    "import matplotlib.pyplot as plt\n",
    "import seaborn as sns\n",
    "\n",
    "np.set_printoptions(precision=4)\n",
    "sns.set_style(\"darkgrid\")\n",
    "%matplotlib inline"
   ]
  },
  {
   "cell_type": "code",
   "execution_count": null,
   "id": "d761cfc7-76ed-4579-81ae-2a36a1d31614",
   "metadata": {},
   "outputs": [],
   "source": [
    "import torch\n",
    "from torch import nn\n",
    "from torch.nn import functional as F"
   ]
  },
  {
   "cell_type": "code",
   "execution_count": null,
   "id": "5a60b034-e50c-4c48-aebf-eb6ea599561e",
   "metadata": {},
   "outputs": [],
   "source": [
    "# InputEmbeddings, PositionalEncoding\n",
    "from input import InputEmbeddings, PositionalEncoding\n",
    "from internal import LayerNormalization, FeedForwardBlock, ResidualConnection, MultiHeadAttention\n",
    "from encoder import EncoderBlock, Encoder\n",
    "from decoder import DecoderBlock, Decoder\n",
    "from transformer import ProjectionLayer, Transformer, build_transformer"
   ]
  },
  {
   "cell_type": "code",
   "execution_count": null,
   "id": "9d9d3530-7b38-4731-85ee-98aa30a1a2d2",
   "metadata": {},
   "outputs": [],
   "source": [
    "d_model = 4\n",
    "vocab_size = 8\n",
    "sos,eos,pad=0,1,2\n",
    "seq_len = 10\n",
    "dropout = 0.1\n",
    "d_ff = 8\n",
    "h = 2\n",
    "N = 2"
   ]
  },
  {
   "cell_type": "code",
   "execution_count": null,
   "id": "a49120ec-a312-4e78-a77f-0375f95c81f9",
   "metadata": {},
   "outputs": [],
   "source": [
    "# t = build_transformer(vocab_size, vocab_size, seq_len, seq_len, d_model, N, h, dropout, d_ff)\n",
    "t = build_transformer(vocab_size, vocab_size, seq_len, seq_len)"
   ]
  },
  {
   "cell_type": "code",
   "execution_count": null,
   "id": "bba565e3-5267-4510-b624-b2c26964863b",
   "metadata": {},
   "outputs": [],
   "source": [
    "t"
   ]
  },
  {
   "cell_type": "code",
   "execution_count": null,
   "id": "d8fffb0d-ec41-48bd-befc-5bbd765585cc",
   "metadata": {},
   "outputs": [],
   "source": [
    "x = torch.tensor([[sos,3,3,5,7,4,pad,pad,pad,eos], [sos,5,7,7,6,6,4,3,pad,eos]])\n",
    "y = torch.tensor([[sos,7,7,3,4,pad,pad,pad,pad,eos], [sos,6,4,4,3,7,5,4,pad,eos]])\n",
    "src_emb = InputEmbeddings(d_model, vocab_size)\n",
    "target_emb = InputEmbeddings(d_model, vocab_size)\n",
    "src_pe = PositionalEncoding(d_model, seq_len, dropout)\n",
    "target_pe = PositionalEncoding(d_model, seq_len, dropout)\n",
    "x = src_pe(src_emb(x))\n",
    "y = target_pe(target_emb(y))"
   ]
  },
  {
   "cell_type": "code",
   "execution_count": null,
   "id": "4edd1904-0489-4fd7-b903-79ff2510c35a",
   "metadata": {},
   "outputs": [],
   "source": [
    "ffb_enc = FeedForwardBlock(d_model, d_ff, dropout)\n",
    "ffb_dec = FeedForwardBlock(d_model, d_ff, dropout)\n",
    "self_attn = MultiHeadAttention(d_model, h, dropout)\n",
    "cross_attn = MultiHeadAttention(d_model, h, dropout)"
   ]
  },
  {
   "cell_type": "code",
   "execution_count": null,
   "id": "9590d72b-3024-4078-9768-3387300a40ee",
   "metadata": {},
   "outputs": [],
   "source": [
    "src_mask = None\n",
    "target_mask = torch.triu(torch.ones(seq_len, seq_len) * -1e9, diagonal=1)"
   ]
  },
  {
   "cell_type": "code",
   "execution_count": null,
   "id": "d4ce6ea7-a05a-45a1-a96e-3099d331e4ca",
   "metadata": {},
   "outputs": [],
   "source": [
    "encoder_blocks = []\n",
    "for _ in range(N):    \n",
    "  encoder_self_attention_block = MultiHeadAttention(d_model, h, dropout)\n",
    "  feed_forward_block = FeedForwardBlock(d_model, d_ff, dropout)\n",
    "  encoder_block = EncoderBlock(encoder_self_attention_block, feed_forward_block, dropout)\n",
    "  encoder_blocks.append(encoder_block)\n",
    "\n",
    "decoder_blocks = []\n",
    "for _ in range(N):\n",
    "  decoder_self_attention_block = MultiHeadAttention(d_model, h, dropout)\n",
    "  decoder_cross_attention_block = MultiHeadAttention(d_model, h, dropout)\n",
    "  feed_forward_block = FeedForwardBlock(d_model, d_ff, dropout)\n",
    "  decoder_block = DecoderBlock(decoder_self_attention_block, decoder_cross_attention_block, feed_forward_block, dropout)\n",
    "  decoder_blocks.append(decoder_block)\n",
    "\n",
    "encoder = Encoder(nn.ModuleList(encoder_blocks))\n",
    "decoder = Decoder(nn.ModuleList(decoder_blocks))\n",
    "projection = ProjectionLayer(d_model, vocab_size)"
   ]
  },
  {
   "cell_type": "code",
   "execution_count": null,
   "id": "500144e5-a890-4b05-b232-aad33d7d34e9",
   "metadata": {},
   "outputs": [],
   "source": [
    "t = Transformer(encoder, decoder, src_emb, target_emb, src_pe, target_pe, projection)"
   ]
  },
  {
   "cell_type": "code",
   "execution_count": null,
   "id": "e0eadd70-e2c3-42d9-a9b8-cb9f51a21dc5",
   "metadata": {},
   "outputs": [],
   "source": [
    "enc_out = encoder(x, src_mask)\n",
    "dec_out = decoder(y, enc_out, src_mask, target_mask)"
   ]
  },
  {
   "cell_type": "code",
   "execution_count": null,
   "id": "fd7e5438-d488-46e2-b1c4-e9170f9b50ab",
   "metadata": {},
   "outputs": [],
   "source": [
    "\n"
   ]
  },
  {
   "cell_type": "code",
   "execution_count": null,
   "id": "54e067ae-7d71-4c6a-bcc7-187cb73c27bb",
   "metadata": {},
   "outputs": [],
   "source": [
    "torch.argmax(out, dim=2)"
   ]
  },
  {
   "cell_type": "code",
   "execution_count": null,
   "id": "de535ea9-f1e0-4dce-a900-9f323bbbb5ef",
   "metadata": {},
   "outputs": [],
   "source": [
    "attn = MultiHeadAttention(d_model, h, dropout)\n",
    "attn(x, x, x)"
   ]
  },
  {
   "cell_type": "code",
   "execution_count": null,
   "id": "f1034a15-bfff-4e5e-9347-e2b3f7c70b0f",
   "metadata": {},
   "outputs": [],
   "source": [
    "norm = LayerNormalization()\n",
    "residual_connection = ResidualConnection(dropout)\n",
    "residual_connection.eval()\n",
    "sublayer = nn.Identity()"
   ]
  },
  {
   "cell_type": "code",
   "execution_count": null,
   "id": "7950b5e6-8958-46be-a058-16f8fe44aa06",
   "metadata": {},
   "outputs": [],
   "source": [
    "y = norm(x)\n",
    "y_res = residual_connection(x, sublayer)\n",
    "torch.all(y_res == (y+x))"
   ]
  },
  {
   "cell_type": "code",
   "execution_count": null,
   "id": "8240d4b9-8672-4ad2-a2f2-0b605533e9aa",
   "metadata": {},
   "outputs": [],
   "source": [
    "self_attn = MultiHeadAttention(d_model, h, dropout)\n",
    "cross_attn = MultiHeadAttention(d_model, h, dropout)\n",
    "src_mask = None"
   ]
  },
  {
   "cell_type": "code",
   "execution_count": null,
   "id": "29248821-5371-4beb-aaeb-3ce89fea837e",
   "metadata": {},
   "outputs": [],
   "source": [
    "batch, seq_len, h, d_model = 2, 6, 2,4"
   ]
  },
  {
   "cell_type": "code",
   "execution_count": null,
   "id": "44eacce3-2c9f-40a0-8aa9-af53a5f689c8",
   "metadata": {},
   "outputs": [],
   "source": [
    "d_k = d_model // h"
   ]
  },
  {
   "cell_type": "code",
   "execution_count": null,
   "id": "ea5bab3b-e1cc-44f0-9b7b-4a8cd9137ff3",
   "metadata": {},
   "outputs": [],
   "source": [
    "w_q = nn.Linear(d_model, d_model)"
   ]
  },
  {
   "cell_type": "code",
   "execution_count": null,
   "id": "c9189e6e-b51f-40f1-96d8-c402c817e6fc",
   "metadata": {},
   "outputs": [],
   "source": [
    "q = torch.rand(batch, seq_len, d_model)"
   ]
  },
  {
   "cell_type": "code",
   "execution_count": null,
   "id": "4ca3e3c0-4531-42c0-93cd-0f37c0f8569d",
   "metadata": {},
   "outputs": [],
   "source": [
    "query = w_q(q)"
   ]
  }
 ],
 "metadata": {
  "kernelspec": {
   "display_name": "Python 3 (ipykernel)",
   "language": "python",
   "name": "python3"
  },
  "language_info": {
   "codemirror_mode": {
    "name": "ipython",
    "version": 3
   },
   "file_extension": ".py",
   "mimetype": "text/x-python",
   "name": "python",
   "nbconvert_exporter": "python",
   "pygments_lexer": "ipython3",
   "version": "3.10.13"
  }
 },
 "nbformat": 4,
 "nbformat_minor": 5
}
